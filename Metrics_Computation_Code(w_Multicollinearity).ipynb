{
  "nbformat": 4,
  "nbformat_minor": 0,
  "metadata": {
    "colab": {
      "name": "Metrics_Computation_Code(w Multicollinearity).ipynb",
      "provenance": [],
      "collapsed_sections": [],
      "include_colab_link": true
    },
    "kernelspec": {
      "name": "python3",
      "display_name": "Python 3"
    }
  },
  "cells": [
    {
      "cell_type": "markdown",
      "metadata": {
        "id": "view-in-github",
        "colab_type": "text"
      },
      "source": [
        "<a href=\"https://colab.research.google.com/github/yashika-git/DataQuality/blob/main/Metrics_Computation_Code(w_Multicollinearity).ipynb\" target=\"_parent\"><img src=\"https://colab.research.google.com/assets/colab-badge.svg\" alt=\"Open In Colab\"/></a>"
      ]
    },
    {
      "cell_type": "code",
      "metadata": {
        "id": "NM3zvwEqKLmF"
      },
      "source": [
        "import pandas as pd\n",
        "#import pyreadstat\n",
        "import seaborn as sn\n",
        "import matplotlib.pyplot as plt\n",
        "import numpy as np"
      ],
      "execution_count": null,
      "outputs": []
    },
    {
      "cell_type": "code",
      "metadata": {
        "id": "GrIl950fcNNq"
      },
      "source": [
        "#data15_16, meta15_16 = pyreadstat.read_sav('BTP/IndividualRecode/2015-2016/section1.SAV')\n",
        "#data15_16, meta15_16 = pyreadstat.read_sav('BTP/IndividualRecode/2015-2016/section2.SAV')\n",
        "#data15_16, meta15_16 = pyreadstat.read_sav('BTP/IndividualRecode/2015-2016/section3.1.SAV')\n",
        "#data15_16, meta15_16 = pyreadstat.read_sav('BTP/IndividualRecode/2015-2016/section4.SAV')\n",
        "#data15_16, meta15_16 = pyreadstat.read_sav('BTP/IndividualRecode/2015-2016/section5.SAV')\n",
        "#data15_16, meta15_16 = pyreadstat.read_sav('BTP/IndividualRecode/2015-2016/section6.1.SAV')\n",
        "#data15_16, meta15_16 = pyreadstat.read_sav('BTP/IndividualRecode/2015-2016/section7.SAV')\n",
        "#data15_16, meta15_16 = pyreadstat.read_sav('BTP/IndividualRecode/2015-2016/section8.SAV')\n",
        "#data15_16, meta15_16 = pyreadstat.read_sav('BTP/IndividualRecode/2015-2016/section9.SAV')\n",
        "#data15_16, meta15_16 = pyreadstat.read_sav('BTP/IndividualRecode/2015-2016/section10.SAV')\n",
        "#data15_16, meta15_16 = pyreadstat.read_sav('BTP/IndividualRecode/2015-2016/section11.SAV')\n",
        "#data15_16, meta15_16 = pyreadstat.read_sav('BTP/IndividualRecode/2015-2016/section12.SAV')\n",
        "#data15_16, meta15_16 = pyreadstat.read_sav('BTP/IndividualRecode/2015-2016/section13.SAV')\n",
        "#data15_16, meta15_16 = pyreadstat.read_sav('BTP/IndividualRecode/2015-2016/section14.SAV')\n",
        "#data15_16, meta15_16 = pyreadstat.read_sav('BTP/IndividualRecode/2015-2016/section15.1.SAV')\n",
        "#data15_16, meta15_16 = pyreadstat.read_sav('BTP/IndividualRecode/2015-2016/section16.1.SAV')\n",
        "\n",
        "#data05_06, meta05_06 = pyreadstat.read_sav('BTP/IndividualRecode/2005_2006/section1.SAV')\n",
        "#data05_06, meta05_06 = pyreadstat.read_sav('BTP/IndividualRecode/2005_2006/section2.SAV')\n",
        "#data05_06, meta05_06 = pyreadstat.read_sav('BTP/IndividualRecode/2005_2006/section3.1.SAV')\n",
        "#data05_06, meta05_06 = pyreadstat.read_sav('BTP/IndividualRecode/2005_2006/section4.SAV')\n",
        "#data05_06, meta05_06 = pyreadstat.read_sav('BTP/IndividualRecode/2005_2006/section5.SAV')\n",
        "#data05_06, meta05_06 = pyreadstat.read_sav('BTP/IndividualRecode/2005_2006/section6.1.SAV')\n",
        "#data05_06, meta05_06 = pyreadstat.read_sav('BTP/IndividualRecode/2005_2006/section7.1.SAV')\n",
        "#data05_06, meta05_06 = pyreadstat.read_sav('BTP/IndividualRecode/2005_2006/section8.1.SAV')\n",
        "#data05_06, meta05_06 = pyreadstat.read_sav('BTP/IndividualRecode/2005_2006/section9.SAV')\n",
        "#data05_06, meta05_06 = pyreadstat.read_sav('BTP/IndividualRecode/2005_2006/section10.SAV')\n",
        "#data05_06, meta05_06 = pyreadstat.read_sav('BTP/IndividualRecode/2005_2006/section11.SAV')\n",
        "#data05_06, meta05_06 = pyreadstat.read_sav('BTP/IndividualRecode/2005_2006/section12.1.SAV')\n",
        "#data05_06, meta05_06 = pyreadstat.read_sav('BTP/IndividualRecode/2005_2006/section13.SAV')\n",
        "#data05_06, meta05_06 = pyreadstat.read_sav('BTP/IndividualRecode/2005_2006/section14.SAV')\n",
        "#data05_06, meta05_06 = pyreadstat.read_sav('BTP/IndividualRecode/2005_2006/section16.1.SAV')\n",
        "#data05_06, meta05_06 = pyreadstat.read_sav('BTP/IndividualRecode/2005_2006/section17.1.SAV')\n",
        "\n",
        "\n",
        "#data98_99, meta98_99= pyreadstat.read_sav(\"BTP/IndividualRecode/1998-1998/section1.SAV\") \n",
        "#data98_99, meta98_99= pyreadstat.read_sav(\"BTP/IndividualRecode/1998-1998/section2.SAV\")\n",
        "#data98_99, meta98_99= pyreadstat.read_sav(\"BTP/IndividualRecode/1998-1998/section3.SAV\") \n",
        "#data98_99, meta98_99= pyreadstat.read_sav(\"BTP/IndividualRecode/1998-1998/section4.SAV\")\n",
        "#data98_99, meta98_99= pyreadstat.read_sav(\"BTP/IndividualRecode/1998-1998/section5.SAV\") \n",
        "#data98_99, meta98_99= pyreadstat.read_sav(\"BTP/IndividualRecode/1998-1998/section6.SAV\")\n",
        "#data98_99, meta98_99= pyreadstat.read_sav(\"BTP/IndividualRecode/1998-1998/section7.SAV\") \n",
        "#data98_99, meta98_99= pyreadstat.read_sav(\"BTP/IndividualRecode/1998-1998/section8.SAV\")\n",
        "#data98_99, meta98_99= pyreadstat.read_sav(\"BTP/IndividualRecode/1998-1998/section9.SAV\") \n",
        "#data98_99, meta98_99 = pyreadstat.read_sav(\"BTP/IndividualRecode/1998-1998/section10.SAV\")\n",
        "#data98_99, meta98_99 = pyreadstat.read_sav(\"BTP/IndividualRecode/1998-1998/section11.SAV\") \n",
        "#data98_99, meta98_99 = pyreadstat.read_sav(\"BTP/IndividualRecode/1998-1998/section13.SAV\")\n",
        "#data98_99, meta98_99 = pyreadstat.read_sav(\"BTP/IndividualRecode/1998-1998/section15.SAV\")\n",
        "\n",
        "\n",
        "#data92_93, meta92_93= pyreadstat.read_sav(\"BTP/IndividualRecode/1992_93/section1.SAV\") \n",
        "#data92_93, meta92_93= pyreadstat.read_sav(\"BTP/IndividualRecode/1992_93/section2.SAV\")\n",
        "#data92_93, meta92_93= pyreadstat.read_sav(\"BTP/IndividualRecode/1992_93/section3.SAV\") \n",
        "#data92_93, meta92_93= pyreadstat.read_sav(\"BTP/IndividualRecode/1992_93/section4.SAV\")\n",
        "#data92_93, meta92_93= pyreadstat.read_sav(\"BTP/IndividualRecode/1992_93/section5.SAV\") \n",
        "#data92_93, meta92_93= pyreadstat.read_sav(\"BTP/IndividualRecode/1992_93/section6.SAV\")\n",
        "#data92_93, meta92_93= pyreadstat.read_sav(\"BTP/IndividualRecode/1992_93/section7.SAV\") \n",
        "#data92_93, meta92_93= pyreadstat.read_sav(\"BTP/IndividualRecode/1992_93/section8.SAV\")\n",
        "#data92_93, meta92_93= pyreadstat.read_sav(\"BTP/IndividualRecode/1992_93/section9.SAV\") \n",
        "#data92_93, meta92_93 = pyreadstat.read_sav(\"BTP/IndividualRecode/1992_93/section10.SAV\")\n",
        "#data92_93, meta92_93 = pyreadstat.read_sav(\"BTP/IndividualRecode/1992_93/section11.SAV\") \n",
        "#data92_93, meta92_93 = pyreadstat.read_sav(\"BTP/IndividualRecode/1992_93/section13.SAV\")\n",
        "#data92_93, meta92_93 = pyreadstat.read_sav(\"BTP/IndividualRecode/1992_93/section15.SAV\")\n",
        "\n",
        "#df = data15_16\n",
        "#meta = meta15_16\n",
        "\n",
        "#df = data05_06\n",
        "#meta = meta05_06\n",
        "\n",
        "#df = data98_99\n",
        "#meta = meta98_99\n",
        "\n",
        "#df = data92_93\n",
        "#meta = meta92_93\n",
        "\n",
        "df = pd.read_csv('Bank.csv')\n"
      ],
      "execution_count": null,
      "outputs": []
    },
    {
      "cell_type": "code",
      "metadata": {
        "id": "_8OVRZ5NROVW"
      },
      "source": [
        "#column_names2015_16 = pd.read_csv(\"BTP/IndividualRecode/2015-2016/Respective Column Name Description.csv\") \n",
        "#column_names2015_16 = column_names2015_16.set_index('CASEID')\n",
        "\n",
        "#column_names2005_06 = pd.read_csv(\"BTP/IndividualRecode/2005_2006/DescriptionColumns.csv\") \n",
        "#column_names2005_06 = column_names2005_06.set_index('CASEID')\n",
        "\n",
        "#column_names1998_99 = pd.read_csv(\"BTP/IndividualRecode/1998-1998/DecriptionColumns.csv\") \n",
        "#column_names1998_99 = column_names1998_99.set_index('caseid')\n",
        "\n",
        "#column_names1992_93 = pd.read_csv(\"BTP/IndividualRecode/1992_93/DescriptionCols.csv\") \n",
        "#column_names1993_93 = column_names1992_93.set_index('caseid')"
      ],
      "execution_count": null,
      "outputs": []
    },
    {
      "cell_type": "code",
      "metadata": {
        "id": "q2aqlgwR7dKQ"
      },
      "source": [
        "#df = df.drop(['IDXML$1', 'IDXML$2', 'IDXML$3', 'IDXML$4', 'IDXML$5', 'IDXML$6'], axis=1)"
      ],
      "execution_count": null,
      "outputs": []
    },
    {
      "cell_type": "code",
      "metadata": {
        "id": "2waNeO4BE9iz",
        "colab": {
          "base_uri": "https://localhost:8080/"
        },
        "outputId": "56d01ee1-cb18-4a6e-a9c0-ecfc8ed11224"
      },
      "source": [
        "print(df.columns)"
      ],
      "execution_count": null,
      "outputs": [
        {
          "output_type": "stream",
          "name": "stdout",
          "text": [
            "Index(['age', 'job', 'marital', 'education', 'default', 'housing', 'loan',\n",
            "       'contact', 'month', 'day_of_week', 'duration', 'campaign', 'pdays',\n",
            "       'previous', 'poutcome', 'emp_var_rate', 'cons_price_idx',\n",
            "       'cons_conf_idx', 'euribor3m', 'nr_employed', 'y'],\n",
            "      dtype='object')\n"
          ]
        }
      ]
    },
    {
      "cell_type": "code",
      "metadata": {
        "id": "ck7Oj8dOPTwB",
        "collapsed": true,
        "colab": {
          "base_uri": "https://localhost:8080/",
          "height": 575
        },
        "outputId": "d931e906-356d-45d8-fe7c-71bdd7990e82"
      },
      "source": [
        "corrMatrix = df.corr()\n",
        "print (corrMatrix)\n",
        "sn.heatmap(corrMatrix)\n",
        "#plt.savefig(\"BTP/IndividualRecode/2015-2016/section16_pearsonPlot.png\")\n",
        "#plt.savefig(\"BTP/IndividualRecode/2005_2006/section17_pearsonPlot.png\")\n",
        "#plt.savefig(\"BTP/IndividualRecode/1998-1998/section15_pearsonPlot.png\")\n",
        "plt.show()"
      ],
      "execution_count": null,
      "outputs": [
        {
          "output_type": "stream",
          "name": "stdout",
          "text": [
            "                     age  duration  campaign  ...  euribor3m  nr_employed         y\n",
            "age             1.000000 -0.009893 -0.007889  ...   0.017886    -0.008779  0.020588\n",
            "duration       -0.009893  1.000000 -0.078754  ...  -0.034681    -0.045493  0.389177\n",
            "campaign       -0.007889 -0.078754  1.000000  ...   0.130963     0.140474 -0.069757\n",
            "pdays          -0.033074 -0.049994  0.054656  ...   0.295345     0.382361 -0.324048\n",
            "previous        0.031889  0.020276 -0.080264  ...  -0.449380    -0.508462  0.233700\n",
            "emp_var_rate    0.007590 -0.032666  0.144616  ...   0.972050     0.903024 -0.306763\n",
            "cons_price_idx  0.004475  0.006999  0.116239  ...   0.675219     0.501366 -0.125861\n",
            "cons_conf_idx   0.127646 -0.021847 -0.014298  ...   0.296307     0.126494  0.040171\n",
            "euribor3m       0.017886 -0.034681  0.130963  ...   1.000000     0.944232 -0.316233\n",
            "nr_employed    -0.008779 -0.045493  0.140474  ...   0.944232     1.000000 -0.366857\n",
            "y               0.020588  0.389177 -0.069757  ...  -0.316233    -0.366857  1.000000\n",
            "\n",
            "[11 rows x 11 columns]\n"
          ]
        },
        {
          "output_type": "display_data",
          "data": {
            "image/png": "[encoded data removed]",
            "text/plain": [
              "<Figure size 432x288 with 2 Axes>"
            ]
          },
          "metadata": {
            "needs_background": "light"
          }
        }
      ]
    },
    {
      "cell_type": "code",
      "metadata": {
        "id": "gpB55aPdIZ6d",
        "colab": {
          "base_uri": "https://localhost:8080/"
        },
        "outputId": "c613bcab-87d1-4711-95d1-ae74e71953c4"
      },
      "source": [
        "print(\"Highly correlated cols\")\n",
        "correlatedColumns = []\n",
        "count=0\n",
        "myset = set() \n",
        "for i in corrMatrix:\n",
        "  for j in corrMatrix:\n",
        "    temp=[]\n",
        "    if(i!=j and i not in myset and j not in myset):\n",
        "      if(corrMatrix[i][j]>0.8 and corrMatrix[i][j]<1):\n",
        "        myset.add(i)\n",
        "        myset.add(j)\n",
        "        #print(i, column_names2015_16['Case Identification'][i])\n",
        "        #print(j, column_names2015_16['Case Identification'][j])\n",
        "        #print(i, column_names2005_06['Case Identification'][i])\n",
        "        #print(j, column_names2005_06['Case Identification'][j])\n",
        "        #print(i, column_names1998_99['Case Identification'][i])\n",
        "        #print(j, column_names1998_99['Case Identification'][j])       \n",
        "        temp.append(i)\n",
        "        temp.append(j)\n",
        "        print(corrMatrix[i][j] )\n",
        "        count= count+1\n",
        "        correlatedColumns.append(temp)\n",
        "\n",
        "print(\"percentage of correlated columns- \", ((count*2)/len(df.columns)) *100)\n",
        "print(correlatedColumns)"
      ],
      "execution_count": null,
      "outputs": [
        {
          "output_type": "stream",
          "name": "stdout",
          "text": [
            "Highly correlated cols\n",
            "0.9720501214463226\n",
            "percentage of correlated columns-  9.523809523809524\n",
            "[['emp_var_rate', 'euribor3m']]\n"
          ]
        }
      ]
    },
    {
      "cell_type": "code",
      "metadata": {
        "id": "gS8nUIpNEJRf",
        "outputId": "ebd6b035-4fb5-4aaf-efa3-bc6ce91f2f61",
        "colab": {
          "base_uri": "https://localhost:8080/"
        }
      },
      "source": [
        "print(\"Number of variables : \", len(df.columns))"
      ],
      "execution_count": null,
      "outputs": [
        {
          "output_type": "stream",
          "name": "stdout",
          "text": [
            "Number of variables :  21\n"
          ]
        }
      ]
    },
    {
      "cell_type": "code",
      "metadata": {
        "id": "qwDU_88gELHV",
        "colab": {
          "base_uri": "https://localhost:8080/"
        },
        "outputId": "3eb3e0ba-37a4-4f5a-c87e-6c891a6eccab"
      },
      "source": [
        "print(\"Number of observations : \", df.shape[0])\n"
      ],
      "execution_count": null,
      "outputs": [
        {
          "output_type": "stream",
          "name": "stdout",
          "text": [
            "Number of observations :  9074\n"
          ]
        }
      ]
    },
    {
      "cell_type": "code",
      "metadata": {
        "id": "nfuHOnKpEM0A",
        "colab": {
          "base_uri": "https://localhost:8080/"
        },
        "outputId": "cd805e9b-8243-47cc-9174-7846cda01404"
      },
      "source": [
        "print(\"% of missing cells : \", (df.isnull().sum().sum()/(df.shape[0]*df.shape[1]))*100, \"%\")\n"
      ],
      "execution_count": null,
      "outputs": [
        {
          "output_type": "stream",
          "name": "stdout",
          "text": [
            "% of missing cells :  1.4599536089507437 %\n"
          ]
        }
      ]
    },
    {
      "cell_type": "code",
      "metadata": {
        "id": "Cbd5xj8dEOUh",
        "colab": {
          "base_uri": "https://localhost:8080/"
        },
        "outputId": "bd12fe60-dc75-40fb-a66d-d1591a3ac535"
      },
      "source": [
        "print(\"% of duplicated rows : \", df.duplicated().sum().sum()/df.shape[0]*100, \"%\")\n"
      ],
      "execution_count": null,
      "outputs": [
        {
          "output_type": "stream",
          "name": "stdout",
          "text": [
            "% of duplicated rows :  0.01102049812651532 %\n"
          ]
        }
      ]
    },
    {
      "cell_type": "code",
      "metadata": {
        "id": "aVD7uc44EQO1",
        "colab": {
          "base_uri": "https://localhost:8080/"
        },
        "outputId": "20656ba1-d427-4201-9428-df9879f9c440"
      },
      "source": [
        "colnames_numerics_only = df.select_dtypes(include=np.number).columns.tolist()\n",
        "len(colnames_numerics_only)\n"
      ],
      "execution_count": null,
      "outputs": [
        {
          "output_type": "execute_result",
          "data": {
            "text/plain": [
              "11"
            ]
          },
          "metadata": {},
          "execution_count": 14
        }
      ]
    },
    {
      "cell_type": "code",
      "metadata": {
        "id": "qLNCckNPER83",
        "colab": {
          "base_uri": "https://localhost:8080/",
          "height": 166
        },
        "outputId": "5ec820a1-9435-4f39-c2b6-c73f69dc0084"
      },
      "source": [
        "print(\"Categorical Columns : \", len(meta.variable_value_labels))\n"
      ],
      "execution_count": null,
      "outputs": [
        {
          "output_type": "error",
          "ename": "NameError",
          "evalue": "ignored",
          "traceback": [
            "\u001b[0;31m---------------------------------------------------------------------------\u001b[0m",
            "\u001b[0;31mNameError\u001b[0m                                 Traceback (most recent call last)",
            "\u001b[0;32m<ipython-input-15-8680f1d083e1>\u001b[0m in \u001b[0;36m<module>\u001b[0;34m()\u001b[0m\n\u001b[0;32m----> 1\u001b[0;31m \u001b[0mprint\u001b[0m\u001b[0;34m(\u001b[0m\u001b[0;34m\"Categorical Columns : \"\u001b[0m\u001b[0;34m,\u001b[0m \u001b[0mlen\u001b[0m\u001b[0;34m(\u001b[0m\u001b[0mmeta\u001b[0m\u001b[0;34m.\u001b[0m\u001b[0mvariable_value_labels\u001b[0m\u001b[0;34m)\u001b[0m\u001b[0;34m)\u001b[0m\u001b[0;34m\u001b[0m\u001b[0;34m\u001b[0m\u001b[0m\n\u001b[0m",
            "\u001b[0;31mNameError\u001b[0m: name 'meta' is not defined"
          ]
        }
      ]
    },
    {
      "cell_type": "code",
      "metadata": {
        "id": "IcbFe5VeESaY"
      },
      "source": [
        "print(\"Continuous Columns : \", (df.shape[1]-len(meta.variable_value_labels)))\n"
      ],
      "execution_count": null,
      "outputs": []
    },
    {
      "cell_type": "code",
      "source": [
        ""
      ],
      "metadata": {
        "id": "FRzsCvn1vRUV"
      },
      "execution_count": null,
      "outputs": []
    },
    {
      "cell_type": "code",
      "metadata": {
        "id": "tfClXBDkEUCO",
        "colab": {
          "base_uri": "https://localhost:8080/"
        },
        "outputId": "f5e39c2e-61ab-4f35-95fc-b67fbc180fb5"
      },
      "source": [
        "x= df.skew(axis = 0, skipna = True).sort_values(ascending=False)\n",
        "\n"
      ],
      "execution_count": null,
      "outputs": [
        {
          "output_type": "stream",
          "name": "stderr",
          "text": [
            "/usr/local/lib/python3.7/dist-packages/ipykernel_launcher.py:1: FutureWarning: Dropping of nuisance columns in DataFrame reductions (with 'numeric_only=None') is deprecated; in a future version this will raise TypeError.  Select only valid columns before calling the reduction.\n",
            "  \"\"\"Entry point for launching an IPython kernel.\n"
          ]
        }
      ]
    },
    {
      "cell_type": "code",
      "metadata": {
        "id": "2FsmAzRHEVX_",
        "colab": {
          "base_uri": "https://localhost:8080/"
        },
        "outputId": "20f27850-cadd-4ee2-bd89-e5c38ec93d14"
      },
      "source": [
        "print(\"Highly Skewed columns : \")\n",
        "skewedCols=x[x>10]\n",
        "print(skewedCols)\n",
        "print(\"Percentage of Skewness- \" , (len(skewedCols)/len(x)) *100)\n",
        "print(len(x))\n"
      ],
      "execution_count": null,
      "outputs": [
        {
          "output_type": "stream",
          "name": "stdout",
          "text": [
            "Highly Skewed columns : \n",
            "Series([], dtype: float64)\n",
            "Percentage of Skewness-  0.0\n",
            "11\n"
          ]
        }
      ]
    },
    {
      "cell_type": "code",
      "source": [
        "colnames_numerics_only = df.select_dtypes(include=np.number).columns.tolist()\n",
        "from statsmodels.stats.outliers_influence import variance_inflation_factor\n",
        "vif_data = pd.DataFrame()\n",
        "X = df[colnames_numerics_only]\n",
        "X.dropna(inplace=True)\n",
        "vif_data[\"feature\"] = X.columns\n",
        "# calculating VIF for each feature\n",
        "vif_data[\"VIF\"] = [variance_inflation_factor(X.values, i)\n",
        "                          for i in range(len(X.columns))]\n",
        "  \n",
        "print(vif_data)\n"
      ],
      "metadata": {
        "colab": {
          "base_uri": "https://localhost:8080/"
        },
        "id": "0QZOq3OcuiZN",
        "outputId": "66178ede-1894-40de-b7e0-912e9d566693"
      },
      "execution_count": null,
      "outputs": [
        {
          "output_type": "stream",
          "name": "stdout",
          "text": [
            "          feature           VIF\n",
            "0             age     16.241854\n",
            "1        duration      2.003478\n",
            "2        campaign      1.848809\n",
            "3           pdays     44.979434\n",
            "4        previous      2.048401\n",
            "5    emp_var_rate     28.951849\n",
            "6  cons_price_idx  22298.426895\n",
            "7   cons_conf_idx    117.977335\n",
            "8       euribor3m    226.227498\n",
            "9     nr_employed  26475.027381\n"
          ]
        },
        {
          "output_type": "stream",
          "name": "stderr",
          "text": [
            "/usr/local/lib/python3.7/dist-packages/pandas/util/_decorators.py:311: SettingWithCopyWarning: \n",
            "A value is trying to be set on a copy of a slice from a DataFrame\n",
            "\n",
            "See the caveats in the documentation: https://pandas.pydata.org/pandas-docs/stable/user_guide/indexing.html#returning-a-view-versus-a-copy\n",
            "  return func(*args, **kwargs)\n",
            "/usr/local/lib/python3.7/dist-packages/pandas/core/frame.py:4913: SettingWithCopyWarning: \n",
            "A value is trying to be set on a copy of a slice from a DataFrame\n",
            "\n",
            "See the caveats in the documentation: https://pandas.pydata.org/pandas-docs/stable/user_guide/indexing.html#returning-a-view-versus-a-copy\n",
            "  errors=errors,\n"
          ]
        }
      ]
    },
    {
      "cell_type": "markdown",
      "metadata": {
        "id": "m0wgML07Nr3x"
      },
      "source": [
        "CODE ENDS HERE\n",
        "\n",
        "BELOW THIS IS DIFF ANALYSIS JO LAST MEETING MEIN DIKHAYA THA\n",
        "\n",
        "IGNORE IT"
      ]
    },
    {
      "cell_type": "code",
      "metadata": {
        "id": "cADsPq27vF9x"
      },
      "source": [
        "from scipy.stats import skew \n",
        "import numpy as np  \n",
        "import pylab as p  \n",
        "import pandas as pd\n",
        "  \n",
        "df = pd.read_csv(\"/content/india_case.csv\")\n",
        "  \n"
      ],
      "execution_count": null,
      "outputs": []
    },
    {
      "cell_type": "code",
      "metadata": {
        "id": "AhTzwvy4wAHV"
      },
      "source": [
        "df= df.drop(\"A\", axis=1)"
      ],
      "execution_count": null,
      "outputs": []
    },
    {
      "cell_type": "code",
      "metadata": {
        "colab": {
          "base_uri": "https://localhost:8080/"
        },
        "id": "Okd6ssntwmOg",
        "outputId": "b7e2d528-c7eb-4330-db01-d15909d6b3ad"
      },
      "source": [
        "len(df.columns)"
      ],
      "execution_count": null,
      "outputs": [
        {
          "output_type": "execute_result",
          "data": {
            "text/plain": [
              "10"
            ]
          },
          "metadata": {
            "tags": []
          },
          "execution_count": 134
        }
      ]
    },
    {
      "cell_type": "code",
      "metadata": {
        "colab": {
          "base_uri": "https://localhost:8080/"
        },
        "id": "GBYkDQwSvkpG",
        "outputId": "abaae646-84c9-436e-b251-9051cfeb3284"
      },
      "source": [
        "p= df.skew(axis = 0, skipna = True).sort_values(ascending=False)\n",
        "print(\"Value of Skewness\")\n",
        "print(p)\n",
        "print(\"Highly Skewed columns : \")\n",
        "skewedCols=p[p>1]\n",
        "print(skewedCols)\n",
        "print(\"Percentage of Skewness- \" , (len(skewedCols)/len(p)) *100)\n",
        "print(len(p))"
      ],
      "execution_count": null,
      "outputs": [
        {
          "output_type": "stream",
          "text": [
            "Value of Skewness\n",
            "Monthly_mean_average_concentration_PM2.5    0.686737\n",
            "Monthly_mean_concentration_PM10             0.424609\n",
            "Monthly_mean_concentration_SO2              0.366478\n",
            "Monthly_mean_concentration_O3               0.213457\n",
            "No_of_AQM_Sensors_deployed                  0.000000\n",
            "Month                                       0.000000\n",
            "Year                                        0.000000\n",
            "Monthly_mean_concentration_NO2             -0.464623\n",
            "dtype: float64\n",
            "Highly Skewed columns : \n",
            "Series([], dtype: float64)\n",
            "Percentage of Skewness-  0.0\n",
            "8\n"
          ],
          "name": "stdout"
        }
      ]
    },
    {
      "cell_type": "code",
      "metadata": {
        "colab": {
          "base_uri": "https://localhost:8080/",
          "height": 681
        },
        "id": "ZSYwmYhXxD7M",
        "outputId": "35952c4b-115e-4249-e772-904c92c6664f"
      },
      "source": [
        "corrMatrix = df.corr()\n",
        "print (corrMatrix)\n",
        "sn.heatmap(corrMatrix)\n",
        "#plt.savefig(\"BTP/IndividualRecode/2015-2016/section16_pearsonPlot.png\")\n",
        "#plt.savefig(\"BTP/IndividualRecode/2005_2006/section17_pearsonPlot.png\")\n",
        "plt.show()"
      ],
      "execution_count": null,
      "outputs": [
        {
          "output_type": "stream",
          "text": [
            "                                          Year  ...  No_of_AQM_Sensors_deployed\n",
            "Year                                       NaN  ...                         NaN\n",
            "Month                                      NaN  ...                         NaN\n",
            "Monthly_mean_average_concentration_PM2.5   NaN  ...                         NaN\n",
            "Monthly_mean_concentration_PM10            NaN  ...                         NaN\n",
            "Monthly_mean_concentration_NO2             NaN  ...                         NaN\n",
            "Monthly_mean_concentration_SO2             NaN  ...                         NaN\n",
            "Monthly_mean_concentration_O3              NaN  ...                         NaN\n",
            "No_of_AQM_Sensors_deployed                 NaN  ...                         NaN\n",
            "\n",
            "[8 rows x 8 columns]\n"
          ],
          "name": "stdout"
        },
        {
          "output_type": "display_data",
          "data": {
            "image/png": "[encoded data removed]",
            "text/plain": [
              "<Figure size 432x288 with 2 Axes>"
            ]
          },
          "metadata": {
            "tags": [],
            "needs_background": "light"
          }
        }
      ]
    },
    {
      "cell_type": "code",
      "metadata": {
        "colab": {
          "base_uri": "https://localhost:8080/"
        },
        "id": "ggAldvexw-Pp",
        "outputId": "5f25332d-2258-4843-9c61-258742518262"
      },
      "source": [
        "print(\"Highly correlated cols\")\n",
        "correlatedColumns = []\n",
        "count=0\n",
        "myseta=set()\n",
        "mysetb=set()\n",
        "for i in corrMatrix:\n",
        "  for j in corrMatrix:\n",
        "    temp=[]\n",
        "    if(i!=j and not((i in myseta and j in mysetb) or (j in myseta and i in mysetb))):\n",
        "      if(corrMatrix[i][j]>0.9 and corrMatrix[i][j]<1):\n",
        "        myseta.add(i)\n",
        "        mysetb.add(j)\n",
        "        temp.append(i)\n",
        "        temp.append(j)\n",
        "        print(corrMatrix[i][j] , i, \" + \", j)\n",
        "        count= count+1\n",
        "        correlatedColumns.append(temp)\n",
        "\n",
        "  print()\n",
        "\n",
        "print(\"percentage of correlated columns- \", ((count*2)/(len(df.columns)*len(df.columns))) *100)\n",
        "print(correlatedColumns)"
      ],
      "execution_count": null,
      "outputs": [
        {
          "output_type": "stream",
          "text": [
            "Highly correlated cols\n",
            "\n",
            "\n",
            "0.9603082580785364 Monthly_mean_average_concentration_PM2.5  +  Monthly_mean_concentration_PM10\n",
            "\n",
            "\n",
            "\n",
            "\n",
            "\n",
            "\n",
            "percentage of correlated columns-  2.0\n",
            "[['Monthly_mean_average_concentration_PM2.5', 'Monthly_mean_concentration_PM10']]\n"
          ],
          "name": "stdout"
        }
      ]
    },
    {
      "cell_type": "code",
      "metadata": {
        "id": "oGpp7-gHxdeo"
      },
      "source": [
        "metadata = [['b',990,160,590,260 ],['c',980,60,500,25], ['d',970,110,560,270], ['e',1,0,0.5,0.5]]"
      ],
      "execution_count": null,
      "outputs": []
    },
    {
      "cell_type": "code",
      "metadata": {
        "id": "thFxA_pvzTVJ"
      },
      "source": [
        "metadata = pd.DataFrame(metadata, columns = ['description', 'max', 'min', 'mean', 'std']) "
      ],
      "execution_count": null,
      "outputs": []
    },
    {
      "cell_type": "code",
      "metadata": {
        "id": "EWsq69yTzYJy",
        "colab": {
          "base_uri": "https://localhost:8080/",
          "height": 172
        },
        "outputId": "22207faf-be91-4a22-c8c5-e86301660906"
      },
      "source": [
        "metadata"
      ],
      "execution_count": null,
      "outputs": [
        {
          "output_type": "execute_result",
          "data": {
            "text/html": [
              "<div>\n",
              "<style scoped>\n",
              "    .dataframe tbody tr th:only-of-type {\n",
              "        vertical-align: middle;\n",
              "    }\n",
              "\n",
              "    .dataframe tbody tr th {\n",
              "        vertical-align: top;\n",
              "    }\n",
              "\n",
              "    .dataframe thead th {\n",
              "        text-align: right;\n",
              "    }\n",
              "</style>\n",
              "<table border=\"1\" class=\"dataframe\">\n",
              "  <thead>\n",
              "    <tr style=\"text-align: right;\">\n",
              "      <th></th>\n",
              "      <th>description</th>\n",
              "      <th>max</th>\n",
              "      <th>min</th>\n",
              "      <th>mean</th>\n",
              "      <th>std</th>\n",
              "    </tr>\n",
              "  </thead>\n",
              "  <tbody>\n",
              "    <tr>\n",
              "      <th>0</th>\n",
              "      <td>b</td>\n",
              "      <td>990</td>\n",
              "      <td>160</td>\n",
              "      <td>590.0</td>\n",
              "      <td>260.0</td>\n",
              "    </tr>\n",
              "    <tr>\n",
              "      <th>1</th>\n",
              "      <td>c</td>\n",
              "      <td>980</td>\n",
              "      <td>60</td>\n",
              "      <td>500.0</td>\n",
              "      <td>25.0</td>\n",
              "    </tr>\n",
              "    <tr>\n",
              "      <th>2</th>\n",
              "      <td>d</td>\n",
              "      <td>970</td>\n",
              "      <td>110</td>\n",
              "      <td>560.0</td>\n",
              "      <td>270.0</td>\n",
              "    </tr>\n",
              "    <tr>\n",
              "      <th>3</th>\n",
              "      <td>e</td>\n",
              "      <td>1</td>\n",
              "      <td>0</td>\n",
              "      <td>0.5</td>\n",
              "      <td>0.5</td>\n",
              "    </tr>\n",
              "  </tbody>\n",
              "</table>\n",
              "</div>"
            ],
            "text/plain": [
              "  description  max  min   mean    std\n",
              "0           b  990  160  590.0  260.0\n",
              "1           c  980   60  500.0   25.0\n",
              "2           d  970  110  560.0  270.0\n",
              "3           e    1    0    0.5    0.5"
            ]
          },
          "metadata": {
            "tags": []
          },
          "execution_count": 47
        }
      ]
    },
    {
      "cell_type": "code",
      "metadata": {
        "id": "BDcMLWI6xoEg"
      },
      "source": [
        "fromData = df.describe()"
      ],
      "execution_count": null,
      "outputs": []
    },
    {
      "cell_type": "markdown",
      "metadata": {
        "id": "cVz_dIYgMjv5"
      },
      "source": [
        "ADDING NOISE TO DATASET AND CHECKING PARAMETERS"
      ]
    },
    {
      "cell_type": "code",
      "metadata": {
        "id": "ib05pMtszdPC"
      },
      "source": [
        "import pandas as pd\n",
        "import seaborn as sn\n",
        "import matplotlib.pyplot as plt\n",
        "import numpy as np"
      ],
      "execution_count": null,
      "outputs": []
    },
    {
      "cell_type": "code",
      "metadata": {
        "colab": {
          "base_uri": "https://localhost:8080/"
        },
        "id": "JChbUq85MuOA",
        "outputId": "dfd62255-6806-4ce4-9e33-7fdfaeb432f4"
      },
      "source": [
        "#df = pd.read_csv('/content/Surat_AirQuality_Data_Varachha_2018.csv')\n",
        "#df = pd.read_csv('/content/Surat_AirQuality_Data_Varachha_2018.csv')\n",
        "#df = pd.read_csv('/content/Surat_AirQuality_Data_Varachha_2018.csv')\n",
        "#df = pd.read_csv('/content/Surat_AirQuality_Data_Varachha_2018.csv')\n",
        "#df = pd.read_csv('/content/Surat_AirQuality_Data_Varachha_2018.csv')\n",
        "#df = pd.read_csv('/content/Surat_AirQuality_Data_Varachha_2018.csv')\n",
        "#df = pd.read_csv('/content/Surat_AirQuality_Data_Varachha_2018.csv')\n",
        "#df = pd.read_csv('/content/Surat_AirQuality_Data_Varachha_2018.csv')\n",
        "#df = pd.read_csv('/content/Surat_AirQuality_Data_Varachha_2018.csv')\n",
        "df = pd.read_csv('/content/Dataset1.csv', encoding='ISO-8859-1')\n",
        "print(df.columns)\n"
      ],
      "execution_count": null,
      "outputs": [
        {
          "output_type": "stream",
          "text": [
            "Index(['ï»¿hospital_pk', 'collection_week', 'state', 'ccn', 'hospital_name',\n",
            "       'address', 'city', 'zip', 'hospital_subtype', 'fips_code',\n",
            "       'is_metro_micro', 'total_beds_7_day_avg',\n",
            "       'all_adult_hospital_beds_7_day_avg',\n",
            "       'all_adult_hospital_inpatient_beds_7_day_avg',\n",
            "       'inpatient_beds_used_7_day_avg',\n",
            "       'all_adult_hospital_inpatient_bed_occupied_7_day_avg',\n",
            "       'total_adult_patients_hospitalized_confirmed_and_suspected_covid_7_day_avg',\n",
            "       'total_adult_patients_hospitalized_confirmed_covid_7_day_avg',\n",
            "       'total_pediatric_patients_hospitalized_confirmed_and_suspected_covid_7_day_avg',\n",
            "       'total_pediatric_patients_hospitalized_confirmed_covid_7_day_avg',\n",
            "       'inpatient_beds_7_day_avg', 'total_icu_beds_7_day_avg',\n",
            "       'total_staffed_adult_icu_beds_7_day_avg', 'icu_beds_used_7_day_avg',\n",
            "       'staffed_adult_icu_bed_occupancy_7_day_avg',\n",
            "       'staffed_icu_adult_patients_confirmed_and_suspected_covid_7_day_avg',\n",
            "       'staffed_icu_adult_patients_confirmed_covid_7_day_avg',\n",
            "       'total_patients_hospitalized_confirmed_influenza_7_day_avg',\n",
            "       'icu_patients_confirmed_influenza_7_day_avg',\n",
            "       'total_patients_hospitalized_confirmed_influenza_and_covid_7_day_avg',\n",
            "       'total_beds_7_day_sum', 'all_adult_hospital_beds_7_day_sum',\n",
            "       'all_adult_hospital_inpatient_beds_7_day_sum',\n",
            "       'inpatient_beds_used_7_day_sum',\n",
            "       'all_adult_hospital_inpatient_bed_occupied_7_day_sum',\n",
            "       'total_adult_patients_hospitalized_confirmed_and_suspected_covid_7_day_sum',\n",
            "       'total_adult_patients_hospitalized_confirmed_covid_7_day_sum',\n",
            "       'total_pediatric_patients_hospitalized_confirmed_and_suspected_covid_7_day_sum',\n",
            "       'total_pediatric_patients_hospitalized_confirmed_covid_7_day_sum',\n",
            "       'inpatient_beds_7_day_sum', 'total_icu_beds_7_day_sum',\n",
            "       'total_staffed_adult_icu_beds_7_day_sum', 'icu_beds_used_7_day_sum',\n",
            "       'staffed_adult_icu_bed_occupancy_7_day_sum',\n",
            "       'staffed_icu_adult_patients_confirmed_and_suspected_covid_7_day_sum',\n",
            "       'staffed_icu_adult_patients_confirmed_covid_7_day_sum',\n",
            "       'total_patients_hospitalized_confirmed_influenza_7_day_sum',\n",
            "       'icu_patients_confirmed_influenza_7_day_sum',\n",
            "       'total_patients_hospitalized_confirmed_influenza_and_covid_7_day_sum',\n",
            "       'total_beds_7_day_coverage', 'all_adult_hospital_beds_7_day_coverage',\n",
            "       'all_adult_hospital_inpatient_beds_7_day_coverage',\n",
            "       'inpatient_beds_used_7_day_coverage',\n",
            "       'all_adult_hospital_inpatient_bed_occupied_7_day_coverage',\n",
            "       'total_adult_patients_hospitalized_confirmed_and_suspected_covid_7_day_coverage',\n",
            "       'total_adult_patients_hospitalized_confirmed_covid_7_day_coverage',\n",
            "       'total_pediatric_patients_hospitalized_confirmed_and_suspected_covid_7_day_coverage',\n",
            "       'total_pediatric_patients_hospitalized_confirmed_covid_7_day_coverage',\n",
            "       'inpatient_beds_7_day_coverage', 'total_icu_beds_7_day_coverage',\n",
            "       'total_staffed_adult_icu_beds_7_day_coverage',\n",
            "       'icu_beds_used_7_day_coverage',\n",
            "       'staffed_adult_icu_bed_occupancy_7_day_coverage',\n",
            "       'staffed_icu_adult_patients_confirmed_and_suspected_covid_7_day_coverage',\n",
            "       'staffed_icu_adult_patients_confirmed_covid_7_day_coverage',\n",
            "       'total_patients_hospitalized_confirmed_influenza_7_day_coverage',\n",
            "       'icu_patients_confirmed_influenza_7_day_coverage',\n",
            "       'total_patients_hospitalized_confirmed_influenza_and_covid_7_day_coverage',\n",
            "       'previous_day_admission_adult_covid_confirmed_7_day_sum',\n",
            "       'previous_day_admission_adult_covid_confirmed_18-19_7_day_sum',\n",
            "       'previous_day_admission_adult_covid_confirmed_20-29_7_day_sum',\n",
            "       'previous_day_admission_adult_covid_confirmed_30-39_7_day_sum',\n",
            "       'previous_day_admission_adult_covid_confirmed_40-49_7_day_sum',\n",
            "       'previous_day_admission_adult_covid_confirmed_50-59_7_day_sum',\n",
            "       'previous_day_admission_adult_covid_confirmed_60-69_7_day_sum',\n",
            "       'previous_day_admission_adult_covid_confirmed_70-79_7_day_sum',\n",
            "       'previous_day_admission_adult_covid_confirmed_80+_7_day_sum',\n",
            "       'previous_day_admission_adult_covid_confirmed_unknown_7_day_sum',\n",
            "       'previous_day_admission_pediatric_covid_confirmed_7_day_sum',\n",
            "       'previous_day_covid_ED_visits_7_day_sum',\n",
            "       'previous_day_admission_adult_covid_suspected_7_day_sum',\n",
            "       'previous_day_admission_adult_covid_suspected_18-19_7_day_sum',\n",
            "       'previous_day_admission_adult_covid_suspected_20-29_7_day_sum',\n",
            "       'previous_day_admission_adult_covid_suspected_30-39_7_day_sum',\n",
            "       'previous_day_admission_adult_covid_suspected_40-49_7_day_sum',\n",
            "       'previous_day_admission_adult_covid_suspected_50-59_7_day_sum',\n",
            "       'previous_day_admission_adult_covid_suspected_60-69_7_day_sum',\n",
            "       'previous_day_admission_adult_covid_suspected_70-79_7_day_sum',\n",
            "       'previous_day_admission_adult_covid_suspected_80+_7_day_sum',\n",
            "       'previous_day_admission_adult_covid_suspected_unknown_7_day_sum',\n",
            "       'previous_day_admission_pediatric_covid_suspected_7_day_sum',\n",
            "       'previous_day_total_ED_visits_7_day_sum',\n",
            "       'previous_day_admission_influenza_confirmed_7_day_sum'],\n",
            "      dtype='object')\n"
          ],
          "name": "stdout"
        }
      ]
    },
    {
      "cell_type": "code",
      "metadata": {
        "colab": {
          "base_uri": "https://localhost:8080/"
        },
        "id": "bUWNLOVoO37x",
        "outputId": "d3181875-d8c1-42cb-cebe-31552d20dcf6"
      },
      "source": [
        "len(df.columns)"
      ],
      "execution_count": null,
      "outputs": [
        {
          "output_type": "execute_result",
          "data": {
            "text/plain": [
              "93"
            ]
          },
          "metadata": {
            "tags": []
          },
          "execution_count": 33
        }
      ]
    },
    {
      "cell_type": "code",
      "metadata": {
        "id": "GgahmpY_QRyq"
      },
      "source": [
        "numericalDF=df.iloc[:,1:13]"
      ],
      "execution_count": null,
      "outputs": []
    },
    {
      "cell_type": "code",
      "metadata": {
        "colab": {
          "base_uri": "https://localhost:8080/"
        },
        "id": "p805vdIgNeQ6",
        "outputId": "a1258360-3470-40a0-be3a-beedd48fe19c"
      },
      "source": [
        "#Generate Noise\n",
        "mu, sigma = 100,100\n",
        "noise = np.random.normal(mu, sigma, [numericalDF.shape[0],numericalDF.shape[1]]) \n",
        "print(noise)\n",
        "\n",
        "addedNoise = numericalDF + noise\n",
        "print(addedNoise)\n"
      ],
      "execution_count": null,
      "outputs": [
        {
          "output_type": "stream",
          "text": [
            "[[ 195.49164492  179.44312375  186.47971339   -3.40466438  140.60061372\n",
            "   115.44861552  231.97293969    8.25953771  149.92806011  158.93171129\n",
            "  -106.51268098  246.80247669]\n",
            " [ 123.26802037  -80.46702275   54.28895824   56.86796593  154.07161743\n",
            "   223.05089808    2.39742568  151.92116376  248.85064484  204.17393969\n",
            "   129.4364941   186.47118235]\n",
            " [ 264.50056994  153.70923866   27.79703935   71.43009999    1.4417226\n",
            "    32.25254828  162.58119916   20.58547278  176.966026    263.69171857\n",
            "   191.99651049  235.38077274]\n",
            " [ 272.0414653   130.84058082  114.3697652    56.86939473  185.34649854\n",
            "    95.46289853   66.2172915   334.1095613   163.90677186  237.01929065\n",
            "   187.00300511  -46.77616816]\n",
            " [ 203.44964621   95.64815932 -147.29731569   32.60225208   21.56516289\n",
            "   195.61767474  168.76694388  -72.79177177  255.40582054  176.98974208\n",
            "    20.94875832   96.5172837 ]\n",
            " [ 171.64535241  204.95529254   64.20558516  123.70792344   71.04237455\n",
            "   184.44241424  -34.03653707  104.05547371  159.49888579  125.71816446\n",
            "    30.79622638   25.98844825]\n",
            " [  72.04823187   91.51539224  115.20972502  -54.438603    180.67381007\n",
            "   128.93617776  217.59969987   93.01408634   53.59690979  297.78201564\n",
            "   170.7801471    86.06242434]\n",
            " [ 227.18958339   37.72673963  121.98622402  213.51996874  -54.08146644\n",
            "   204.11783607  114.33577325  119.60791083   22.06438948  153.82983965\n",
            "   -27.75029471   87.77878926]\n",
            " [ 105.25201178   21.69001847  178.18090627  -21.63084819   85.48744441\n",
            "   115.94355209    5.63851201  -66.28816128   98.72783671  145.58027692\n",
            "   -14.01028109   45.26727449]]\n",
            "   Provenance  Uniformity  ...  Inconsistencies  Data Quality\n",
            "0  295.491645  279.443124  ...      -106.512681    323.805541\n",
            "1  223.268020   19.532977  ...       129.592744    269.448205\n",
            "2  364.500570  253.709239  ...       191.996510    310.572495\n",
            "3  372.041465  230.840581  ...       187.003005     14.365384\n",
            "4  303.449646  195.648159  ...        20.948758    176.489098\n",
            "5  271.645352  304.955293  ...        30.796226    105.314429\n",
            "6  172.048232  191.515392  ...       170.936397    166.487364\n",
            "7  327.189583  137.726740  ...       -27.750295    170.146437\n",
            "8  205.252012  121.690018  ...       -13.910281    128.474922\n",
            "\n",
            "[9 rows x 12 columns]\n"
          ],
          "name": "stdout"
        }
      ]
    },
    {
      "cell_type": "code",
      "metadata": {
        "colab": {
          "base_uri": "https://localhost:8080/"
        },
        "id": "ArPCZJFzebYs",
        "outputId": "ba24da7e-70dd-4b2d-fcd6-7a822e67cf81"
      },
      "source": [
        "df = pd.concat([df.iloc[:,0:1] ,addedNoise],axis=1)\n",
        "print(df)"
      ],
      "execution_count": null,
      "outputs": [
        {
          "output_type": "stream",
          "text": [
            "   Name of Dataset  Provenance  ...  Inconsistencies  Data Quality\n",
            "0           Panaji  295.491645  ...      -106.512681    323.805541\n",
            "1          Solapur  223.268020  ...       129.592744    269.448205\n",
            "2         Tumakuru  364.500570  ...       191.996510    310.572495\n",
            "3       Saharanpur  372.041465  ...       187.003005     14.365384\n",
            "4            Sagar  303.449646  ...        20.948758    176.489098\n",
            "5          Udaipur  271.645352  ...        30.796226    105.314429\n",
            "6             Pune  172.048232  ...       170.936397    166.487364\n",
            "7  Limbayat, Surat  327.189583  ...       -27.750295    170.146437\n",
            "8  Varachha, Surat  205.252012  ...       -13.910281    128.474922\n",
            "\n",
            "[9 rows x 13 columns]\n"
          ],
          "name": "stdout"
        }
      ]
    },
    {
      "cell_type": "code",
      "metadata": {
        "id": "EwJfRckPNIuN"
      },
      "source": [
        "fromData = df.describe()\n",
        "print(fromData)"
      ],
      "execution_count": null,
      "outputs": []
    },
    {
      "cell_type": "code",
      "metadata": {
        "colab": {
          "base_uri": "https://localhost:8080/"
        },
        "id": "bakhGeV7M7qa",
        "outputId": "66ce1016-1fd1-4cb4-cb0d-e3a2f387e8e8"
      },
      "source": [
        "print(\"% of missing cells : \", (df.isnull().sum().sum()/(df.shape[0]*df.shape[1]))*100, \"%\")\n"
      ],
      "execution_count": null,
      "outputs": [
        {
          "output_type": "stream",
          "text": [
            "% of missing cells :  5.497396187916497 %\n"
          ],
          "name": "stdout"
        }
      ]
    },
    {
      "cell_type": "code",
      "metadata": {
        "colab": {
          "base_uri": "https://localhost:8080/"
        },
        "id": "qihWnOYkM8N9",
        "outputId": "f6e2c347-335a-4b80-b98c-1ab4100ebe29"
      },
      "source": [
        "print(\"% of duplicated rows : \", df.duplicated().sum().sum()/df.shape[0]*100, \"%\")\n"
      ],
      "execution_count": null,
      "outputs": [
        {
          "output_type": "stream",
          "text": [
            "% of duplicated rows :  0.0 %\n"
          ],
          "name": "stdout"
        }
      ]
    },
    {
      "cell_type": "code",
      "metadata": {
        "colab": {
          "base_uri": "https://localhost:8080/"
        },
        "id": "JfcBRd5vM_Gj",
        "outputId": "8272bc3a-88bd-4939-bb95-b3aeb6520168"
      },
      "source": [
        "p= df.skew(axis = 0, skipna = True).sort_values(ascending=False)\n",
        "print(\"Value of Skewness\")\n",
        "print(p)\n",
        "print(\"Highly Skewed columns : \")\n",
        "skewedCols=p[p<-1]\n",
        "print(skewedCols)\n",
        "print(\"Percentage of Skewness- \" , (len(skewedCols)/len(p)) *100)\n",
        "print(len(p))"
      ],
      "execution_count": null,
      "outputs": [
        {
          "output_type": "stream",
          "text": [
            "Value of Skewness\n",
            "fips_code                                                                     0.095881\n",
            "zip                                                                          -0.180746\n",
            "total_patients_hospitalized_confirmed_influenza_and_covid_7_day_coverage     -0.234711\n",
            "icu_patients_confirmed_influenza_7_day_coverage                              -0.235585\n",
            "total_patients_hospitalized_confirmed_influenza_7_day_coverage               -0.236342\n",
            "                                                                               ...    \n",
            "total_beds_7_day_avg                                                        -31.333592\n",
            "all_adult_hospital_inpatient_beds_7_day_sum                                 -51.270358\n",
            "inpatient_beds_7_day_sum                                                    -60.378267\n",
            "all_adult_hospital_beds_7_day_sum                                           -87.721946\n",
            "total_beds_7_day_sum                                                       -101.131278\n",
            "Length: 85, dtype: float64\n",
            "Highly Skewed columns : \n",
            "previous_day_admission_adult_covid_confirmed_80+_7_day_sum       -1.072578\n",
            "previous_day_admission_adult_covid_confirmed_70-79_7_day_sum     -1.079612\n",
            "previous_day_admission_adult_covid_confirmed_60-69_7_day_sum     -1.093589\n",
            "previous_day_admission_adult_covid_confirmed_50-59_7_day_sum     -1.127047\n",
            "previous_day_admission_adult_covid_confirmed_40-49_7_day_sum     -1.238778\n",
            "                                                                   ...    \n",
            "total_beds_7_day_avg                                            -31.333592\n",
            "all_adult_hospital_inpatient_beds_7_day_sum                     -51.270358\n",
            "inpatient_beds_7_day_sum                                        -60.378267\n",
            "all_adult_hospital_beds_7_day_sum                               -87.721946\n",
            "total_beds_7_day_sum                                           -101.131278\n",
            "Length: 76, dtype: float64\n",
            "Percentage of Skewness-  89.41176470588236\n",
            "85\n"
          ],
          "name": "stdout"
        }
      ]
    },
    {
      "cell_type": "code",
      "metadata": {
        "colab": {
          "base_uri": "https://localhost:8080/"
        },
        "id": "hnvd4eTZhffi",
        "outputId": "66731e30-02ec-41dc-c55c-9c942f578213"
      },
      "source": [
        "from scipy import spatial\n",
        "\n",
        "dataset = [100,\t100,\t100,\t84.6299,\t89.00436804,\t100,\t97.2972973,\t0.3333333333,\t69.6969697]\n",
        "ideal = [100,\t100,\t100,\t100,\t100,\t100,\t100,\t1,\t100]\n",
        "\n",
        "dq_dataset = [86.81686608]\n",
        "dq_ideal = [91.6737]\n",
        "result = 1 - spatial.distance.cosine(dataset, ideal)\n",
        "similarity = 1-result\n",
        "print(similarity)\n",
        "\n",
        "result = 1 - spatial.distance.cosine(dq_dataset, dq_ideal)\n",
        "similarity = 1-result\n",
        "print(similarity)"
      ],
      "execution_count": null,
      "outputs": [
        {
          "output_type": "stream",
          "text": [
            "0.0060873182423938355\n",
            "0.0\n"
          ],
          "name": "stdout"
        }
      ]
    },
    {
      "cell_type": "code",
      "metadata": {
        "colab": {
          "base_uri": "https://localhost:8080/",
          "height": 961
        },
        "id": "7uzXbY7vM2KZ",
        "outputId": "ebf76c2a-9138-4a80-f644-5f900665ac80"
      },
      "source": [
        "corrMatrix = df.corr()\n",
        "print (corrMatrix)\n",
        "sn.heatmap(corrMatrix)\n",
        "plt.show()"
      ],
      "execution_count": null,
      "outputs": [
        {
          "output_type": "stream",
          "text": [
            "                                                         zip  ...  previous_day_admission_influenza_confirmed_7_day_sum\n",
            "zip                                                 1.000000  ...                                           0.030944   \n",
            "fips_code                                          -0.188769  ...                                           0.009270   \n",
            "is_metro_micro                                     -0.050861  ...                                          -0.063885   \n",
            "total_beds_7_day_avg                               -0.021016  ...                                          -0.006778   \n",
            "all_adult_hospital_beds_7_day_avg                  -0.025200  ...                                          -0.009253   \n",
            "...                                                      ...  ...                                                ...   \n",
            "previous_day_admission_adult_covid_suspected_80...  0.017573  ...                                           0.066062   \n",
            "previous_day_admission_adult_covid_suspected_un...  0.033032  ...                                           0.000874   \n",
            "previous_day_admission_pediatric_covid_suspecte...  0.026648  ...                                           0.048753   \n",
            "previous_day_total_ED_visits_7_day_sum             -0.027716  ...                                          -0.012419   \n",
            "previous_day_admission_influenza_confirmed_7_da...  0.030944  ...                                           1.000000   \n",
            "\n",
            "[85 rows x 85 columns]\n"
          ],
          "name": "stdout"
        },
        {
          "output_type": "display_data",
          "data": {
            "image/png": "[encoded data removed]",
            "text/plain": [
              "<Figure size 432x288 with 2 Axes>"
            ]
          },
          "metadata": {
            "tags": [],
            "needs_background": "light"
          }
        }
      ]
    },
    {
      "cell_type": "code",
      "metadata": {
        "colab": {
          "base_uri": "https://localhost:8080/"
        },
        "id": "FUABvuE8NE30",
        "outputId": "69a7d5ad-2b9b-4523-cefc-6277a7ce43c3"
      },
      "source": [
        "print(\"Highly correlated cols\")\n",
        "correlatedColumns = []\n",
        "count=0\n",
        "myseta=set()\n",
        "mysetb=set()\n",
        "for i in corrMatrix:\n",
        "  for j in corrMatrix:\n",
        "    temp=[]\n",
        "    if(i!=j and not((i in myseta and j in mysetb) or (j in myseta and i in mysetb))):\n",
        "      if(corrMatrix[i][j]>0.9 and corrMatrix[i][j]<1):\n",
        "        myseta.add(i)\n",
        "        mysetb.add(j)\n",
        "        temp.append(i)\n",
        "        temp.append(j)\n",
        "        print(corrMatrix[i][j] , i, \" + \", j)\n",
        "        count= count+1\n",
        "        correlatedColumns.append(temp)\n",
        "\n",
        "  print()\n",
        "\n",
        "print(\"percentage of correlated columns- \", ((count*2)/(len(df.columns)*len(df.columns))) *100)\n",
        "print(correlatedColumns)"
      ],
      "execution_count": null,
      "outputs": [
        {
          "output_type": "stream",
          "text": [
            "Highly correlated cols\n",
            "\n",
            "\n",
            "\n",
            "\n",
            "\n",
            "\n",
            "0.9608373346066852 inpatient_beds_used_7_day_avg  +  all_adult_hospital_inpatient_bed_occupied_7_day_avg\n",
            "\n",
            "\n",
            "0.9066431292682751 total_adult_patients_hospitalized_confirmed_and_suspected_covid_7_day_avg  +  total_adult_patients_hospitalized_confirmed_covid_7_day_avg\n",
            "\n",
            "\n",
            "\n",
            "\n",
            "\n",
            "0.9696299004981389 total_icu_beds_7_day_avg  +  total_staffed_adult_icu_beds_7_day_avg\n",
            "\n",
            "\n",
            "0.9692620854049406 icu_beds_used_7_day_avg  +  staffed_adult_icu_bed_occupancy_7_day_avg\n",
            "\n",
            "\n",
            "0.9392387045640347 staffed_icu_adult_patients_confirmed_and_suspected_covid_7_day_avg  +  staffed_icu_adult_patients_confirmed_covid_7_day_avg\n",
            "\n",
            "\n",
            "\n",
            "\n",
            "\n",
            "0.999003601456434 total_beds_7_day_sum  +  all_adult_hospital_beds_7_day_sum\n",
            "0.997825503498429 total_beds_7_day_sum  +  all_adult_hospital_inpatient_beds_7_day_sum\n",
            "0.999036544244563 total_beds_7_day_sum  +  inpatient_beds_7_day_sum\n",
            "\n",
            "0.9991076026635589 all_adult_hospital_beds_7_day_sum  +  all_adult_hospital_inpatient_beds_7_day_sum\n",
            "\n",
            "0.9992434517339932 all_adult_hospital_inpatient_beds_7_day_sum  +  inpatient_beds_7_day_sum\n",
            "\n",
            "\n",
            "\n",
            "\n",
            "\n",
            "\n",
            "\n",
            "\n",
            "0.9200273344866533 total_icu_beds_7_day_sum  +  total_staffed_adult_icu_beds_7_day_sum\n",
            "\n",
            "\n",
            "0.9667518992207499 icu_beds_used_7_day_sum  +  staffed_adult_icu_bed_occupancy_7_day_sum\n",
            "\n",
            "\n",
            "\n",
            "\n",
            "\n",
            "\n",
            "\n",
            "0.9746670672931973 total_beds_7_day_coverage  +  all_adult_hospital_inpatient_beds_7_day_coverage\n",
            "0.9751471585914091 total_beds_7_day_coverage  +  inpatient_beds_used_7_day_coverage\n",
            "0.9723400206744477 total_beds_7_day_coverage  +  all_adult_hospital_inpatient_bed_occupied_7_day_coverage\n",
            "0.9522820653664386 total_beds_7_day_coverage  +  total_adult_patients_hospitalized_confirmed_and_suspected_covid_7_day_coverage\n",
            "0.953608697759607 total_beds_7_day_coverage  +  total_adult_patients_hospitalized_confirmed_covid_7_day_coverage\n",
            "0.9505220414929598 total_beds_7_day_coverage  +  total_pediatric_patients_hospitalized_confirmed_and_suspected_covid_7_day_coverage\n",
            "0.9531658540302651 total_beds_7_day_coverage  +  total_pediatric_patients_hospitalized_confirmed_covid_7_day_coverage\n",
            "0.9770305683289674 total_beds_7_day_coverage  +  inpatient_beds_7_day_coverage\n",
            "0.9765565965709815 total_beds_7_day_coverage  +  total_icu_beds_7_day_coverage\n",
            "0.9741918777266696 total_beds_7_day_coverage  +  total_staffed_adult_icu_beds_7_day_coverage\n",
            "0.9742022730016496 total_beds_7_day_coverage  +  icu_beds_used_7_day_coverage\n",
            "0.9718635883407457 total_beds_7_day_coverage  +  staffed_adult_icu_bed_occupancy_7_day_coverage\n",
            "0.949645782620707 total_beds_7_day_coverage  +  staffed_icu_adult_patients_confirmed_and_suspected_covid_7_day_coverage\n",
            "0.9540521764199413 total_beds_7_day_coverage  +  staffed_icu_adult_patients_confirmed_covid_7_day_coverage\n",
            "0.953081845278402 total_beds_7_day_coverage  +  total_patients_hospitalized_confirmed_influenza_7_day_coverage\n",
            "0.9539713229624119 total_beds_7_day_coverage  +  icu_patients_confirmed_influenza_7_day_coverage\n",
            "0.9539713229624119 total_beds_7_day_coverage  +  total_patients_hospitalized_confirmed_influenza_and_covid_7_day_coverage\n",
            "\n",
            "0.9746670672931973 all_adult_hospital_beds_7_day_coverage  +  all_adult_hospital_inpatient_beds_7_day_coverage\n",
            "\n",
            "0.9956599916456805 all_adult_hospital_inpatient_beds_7_day_coverage  +  inpatient_beds_used_7_day_coverage\n",
            "\n",
            "0.9971225437168998 inpatient_beds_used_7_day_coverage  +  all_adult_hospital_inpatient_bed_occupied_7_day_coverage\n",
            "\n",
            "0.9756495751703289 all_adult_hospital_inpatient_bed_occupied_7_day_coverage  +  total_adult_patients_hospitalized_confirmed_and_suspected_covid_7_day_coverage\n",
            "\n",
            "0.9976814913391223 total_adult_patients_hospitalized_confirmed_and_suspected_covid_7_day_coverage  +  total_adult_patients_hospitalized_confirmed_covid_7_day_coverage\n",
            "\n",
            "0.9967643986761439 total_adult_patients_hospitalized_confirmed_covid_7_day_coverage  +  total_pediatric_patients_hospitalized_confirmed_and_suspected_covid_7_day_coverage\n",
            "\n",
            "0.9972270955261753 total_pediatric_patients_hospitalized_confirmed_and_suspected_covid_7_day_coverage  +  total_pediatric_patients_hospitalized_confirmed_covid_7_day_coverage\n",
            "\n",
            "0.9755837125635949 total_pediatric_patients_hospitalized_confirmed_covid_7_day_coverage  +  inpatient_beds_7_day_coverage\n",
            "\n",
            "0.9995146030266459 inpatient_beds_7_day_coverage  +  total_icu_beds_7_day_coverage\n",
            "\n",
            "0.9975799755674617 total_icu_beds_7_day_coverage  +  total_staffed_adult_icu_beds_7_day_coverage\n",
            "\n",
            "0.9951762793747507 total_staffed_adult_icu_beds_7_day_coverage  +  icu_beds_used_7_day_coverage\n",
            "\n",
            "0.9976003671286321 icu_beds_used_7_day_coverage  +  staffed_adult_icu_bed_occupancy_7_day_coverage\n",
            "\n",
            "0.9734170470056971 staffed_adult_icu_bed_occupancy_7_day_coverage  +  staffed_icu_adult_patients_confirmed_and_suspected_covid_7_day_coverage\n",
            "\n",
            "0.9953835067009398 staffed_icu_adult_patients_confirmed_and_suspected_covid_7_day_coverage  +  staffed_icu_adult_patients_confirmed_covid_7_day_coverage\n",
            "\n",
            "0.9981389472079337 staffed_icu_adult_patients_confirmed_covid_7_day_coverage  +  total_patients_hospitalized_confirmed_influenza_7_day_coverage\n",
            "\n",
            "0.9990679539366559 total_patients_hospitalized_confirmed_influenza_7_day_coverage  +  icu_patients_confirmed_influenza_7_day_coverage\n",
            "\n",
            "\n",
            "\n",
            "\n",
            "\n",
            "\n",
            "\n",
            "\n",
            "\n",
            "\n",
            "\n",
            "\n",
            "\n",
            "\n",
            "\n",
            "\n",
            "\n",
            "\n",
            "\n",
            "\n",
            "\n",
            "\n",
            "\n",
            "\n",
            "\n",
            "\n",
            "\n",
            "\n",
            "percentage of correlated columns-  1.040582726326743\n",
            "[['inpatient_beds_used_7_day_avg', 'all_adult_hospital_inpatient_bed_occupied_7_day_avg'], ['total_adult_patients_hospitalized_confirmed_and_suspected_covid_7_day_avg', 'total_adult_patients_hospitalized_confirmed_covid_7_day_avg'], ['total_icu_beds_7_day_avg', 'total_staffed_adult_icu_beds_7_day_avg'], ['icu_beds_used_7_day_avg', 'staffed_adult_icu_bed_occupancy_7_day_avg'], ['staffed_icu_adult_patients_confirmed_and_suspected_covid_7_day_avg', 'staffed_icu_adult_patients_confirmed_covid_7_day_avg'], ['total_beds_7_day_sum', 'all_adult_hospital_beds_7_day_sum'], ['total_beds_7_day_sum', 'all_adult_hospital_inpatient_beds_7_day_sum'], ['total_beds_7_day_sum', 'inpatient_beds_7_day_sum'], ['all_adult_hospital_beds_7_day_sum', 'all_adult_hospital_inpatient_beds_7_day_sum'], ['all_adult_hospital_inpatient_beds_7_day_sum', 'inpatient_beds_7_day_sum'], ['total_icu_beds_7_day_sum', 'total_staffed_adult_icu_beds_7_day_sum'], ['icu_beds_used_7_day_sum', 'staffed_adult_icu_bed_occupancy_7_day_sum'], ['total_beds_7_day_coverage', 'all_adult_hospital_inpatient_beds_7_day_coverage'], ['total_beds_7_day_coverage', 'inpatient_beds_used_7_day_coverage'], ['total_beds_7_day_coverage', 'all_adult_hospital_inpatient_bed_occupied_7_day_coverage'], ['total_beds_7_day_coverage', 'total_adult_patients_hospitalized_confirmed_and_suspected_covid_7_day_coverage'], ['total_beds_7_day_coverage', 'total_adult_patients_hospitalized_confirmed_covid_7_day_coverage'], ['total_beds_7_day_coverage', 'total_pediatric_patients_hospitalized_confirmed_and_suspected_covid_7_day_coverage'], ['total_beds_7_day_coverage', 'total_pediatric_patients_hospitalized_confirmed_covid_7_day_coverage'], ['total_beds_7_day_coverage', 'inpatient_beds_7_day_coverage'], ['total_beds_7_day_coverage', 'total_icu_beds_7_day_coverage'], ['total_beds_7_day_coverage', 'total_staffed_adult_icu_beds_7_day_coverage'], ['total_beds_7_day_coverage', 'icu_beds_used_7_day_coverage'], ['total_beds_7_day_coverage', 'staffed_adult_icu_bed_occupancy_7_day_coverage'], ['total_beds_7_day_coverage', 'staffed_icu_adult_patients_confirmed_and_suspected_covid_7_day_coverage'], ['total_beds_7_day_coverage', 'staffed_icu_adult_patients_confirmed_covid_7_day_coverage'], ['total_beds_7_day_coverage', 'total_patients_hospitalized_confirmed_influenza_7_day_coverage'], ['total_beds_7_day_coverage', 'icu_patients_confirmed_influenza_7_day_coverage'], ['total_beds_7_day_coverage', 'total_patients_hospitalized_confirmed_influenza_and_covid_7_day_coverage'], ['all_adult_hospital_beds_7_day_coverage', 'all_adult_hospital_inpatient_beds_7_day_coverage'], ['all_adult_hospital_inpatient_beds_7_day_coverage', 'inpatient_beds_used_7_day_coverage'], ['inpatient_beds_used_7_day_coverage', 'all_adult_hospital_inpatient_bed_occupied_7_day_coverage'], ['all_adult_hospital_inpatient_bed_occupied_7_day_coverage', 'total_adult_patients_hospitalized_confirmed_and_suspected_covid_7_day_coverage'], ['total_adult_patients_hospitalized_confirmed_and_suspected_covid_7_day_coverage', 'total_adult_patients_hospitalized_confirmed_covid_7_day_coverage'], ['total_adult_patients_hospitalized_confirmed_covid_7_day_coverage', 'total_pediatric_patients_hospitalized_confirmed_and_suspected_covid_7_day_coverage'], ['total_pediatric_patients_hospitalized_confirmed_and_suspected_covid_7_day_coverage', 'total_pediatric_patients_hospitalized_confirmed_covid_7_day_coverage'], ['total_pediatric_patients_hospitalized_confirmed_covid_7_day_coverage', 'inpatient_beds_7_day_coverage'], ['inpatient_beds_7_day_coverage', 'total_icu_beds_7_day_coverage'], ['total_icu_beds_7_day_coverage', 'total_staffed_adult_icu_beds_7_day_coverage'], ['total_staffed_adult_icu_beds_7_day_coverage', 'icu_beds_used_7_day_coverage'], ['icu_beds_used_7_day_coverage', 'staffed_adult_icu_bed_occupancy_7_day_coverage'], ['staffed_adult_icu_bed_occupancy_7_day_coverage', 'staffed_icu_adult_patients_confirmed_and_suspected_covid_7_day_coverage'], ['staffed_icu_adult_patients_confirmed_and_suspected_covid_7_day_coverage', 'staffed_icu_adult_patients_confirmed_covid_7_day_coverage'], ['staffed_icu_adult_patients_confirmed_covid_7_day_coverage', 'total_patients_hospitalized_confirmed_influenza_7_day_coverage'], ['total_patients_hospitalized_confirmed_influenza_7_day_coverage', 'icu_patients_confirmed_influenza_7_day_coverage']]\n"
          ],
          "name": "stdout"
        }
      ]
    },
    {
      "cell_type": "code",
      "metadata": {
        "id": "4LQSkpqZbBB5"
      },
      "source": [
        "import pandas as pd\n",
        "df = pd.read_csv('/content/Data5.csv', encoding = \"ISO-8859-1\")"
      ],
      "execution_count": null,
      "outputs": []
    },
    {
      "cell_type": "code",
      "metadata": {
        "colab": {
          "base_uri": "https://localhost:8080/",
          "height": 746
        },
        "id": "7YlBi4RDbKSJ",
        "outputId": "c0701e77-d7d2-459e-ade8-3e349b274306"
      },
      "source": [
        "df"
      ],
      "execution_count": null,
      "outputs": [
        {
          "output_type": "execute_result",
          "data": {
            "text/html": [
              "<div>\n",
              "<style scoped>\n",
              "    .dataframe tbody tr th:only-of-type {\n",
              "        vertical-align: middle;\n",
              "    }\n",
              "\n",
              "    .dataframe tbody tr th {\n",
              "        vertical-align: top;\n",
              "    }\n",
              "\n",
              "    .dataframe thead th {\n",
              "        text-align: right;\n",
              "    }\n",
              "</style>\n",
              "<table border=\"1\" class=\"dataframe\">\n",
              "  <thead>\n",
              "    <tr style=\"text-align: right;\">\n",
              "      <th></th>\n",
              "      <th>Dams of C. Asia</th>\n",
              "      <th>Unnamed: 1</th>\n",
              "      <th>Unnamed: 2</th>\n",
              "      <th>Unnamed: 3</th>\n",
              "      <th>Unnamed: 4</th>\n",
              "      <th>Unnamed: 5</th>\n",
              "      <th>Unnamed: 6</th>\n",
              "      <th>Unnamed: 7</th>\n",
              "      <th>Unnamed: 8</th>\n",
              "      <th>Unnamed: 9</th>\n",
              "      <th>Unnamed: 10</th>\n",
              "      <th>Unnamed: 11</th>\n",
              "      <th>Unnamed: 12</th>\n",
              "      <th>Unnamed: 13</th>\n",
              "      <th>Unnamed: 14</th>\n",
              "      <th>Unnamed: 15</th>\n",
              "      <th>Unnamed: 16</th>\n",
              "      <th>Unnamed: 17</th>\n",
              "      <th>Unnamed: 18</th>\n",
              "      <th>Unnamed: 19</th>\n",
              "      <th>Unnamed: 20</th>\n",
              "      <th>Unnamed: 21</th>\n",
              "      <th>Unnamed: 22</th>\n",
              "      <th>Unnamed: 23</th>\n",
              "      <th>Unnamed: 24</th>\n",
              "      <th>Unnamed: 25</th>\n",
              "      <th>Unnamed: 26</th>\n",
              "      <th>Unnamed: 27</th>\n",
              "      <th>Unnamed: 28</th>\n",
              "      <th>Unnamed: 29</th>\n",
              "      <th>Unnamed: 30</th>\n",
              "      <th>Unnamed: 31</th>\n",
              "      <th>Unnamed: 32</th>\n",
              "      <th>Unnamed: 33</th>\n",
              "      <th>Unnamed: 34</th>\n",
              "      <th>Unnamed: 35</th>\n",
              "      <th>Unnamed: 36</th>\n",
              "      <th>Unnamed: 37</th>\n",
              "      <th>Unnamed: 38</th>\n",
              "      <th>Unnamed: 39</th>\n",
              "      <th>Unnamed: 40</th>\n",
              "      <th>Unnamed: 41</th>\n",
              "      <th>Unnamed: 42</th>\n",
              "    </tr>\n",
              "  </thead>\n",
              "  <tbody>\n",
              "    <tr>\n",
              "      <th>0</th>\n",
              "      <td>Country</td>\n",
              "      <td>Name of dam</td>\n",
              "      <td>Alternate dam name</td>\n",
              "      <td>ISO alpha- 3</td>\n",
              "      <td>Administrative\\nUnit</td>\n",
              "      <td>Nearest city</td>\n",
              "      <td>River</td>\n",
              "      <td>Major basin</td>\n",
              "      <td>Sub-basin</td>\n",
              "      <td>Completed /operational since</td>\n",
              "      <td>Dam height (m)</td>\n",
              "      <td>Reservoir capacity (million m3)</td>\n",
              "      <td>Reservoir area (km2)</td>\n",
              "      <td>Sedimen-tation \\n(latest known) \\n(%)</td>\n",
              "      <td>Irrigation</td>\n",
              "      <td>Water supply</td>\n",
              "      <td>Flood control</td>\n",
              "      <td>Hydroelectricity (MW)</td>\n",
              "      <td>Navigation</td>\n",
              "      <td>Recreation</td>\n",
              "      <td>Pollution control</td>\n",
              "      <td>Livestock rearing</td>\n",
              "      <td>Other</td>\n",
              "      <td>Decimal degree latitude</td>\n",
              "      <td>Decimal degree longitude</td>\n",
              "      <td>National reference(s)</td>\n",
              "      <td>Other reference(s)</td>\n",
              "      <td>Comments</td>\n",
              "      <td>NaN</td>\n",
              "      <td>NaN</td>\n",
              "      <td>NaN</td>\n",
              "      <td>NaN</td>\n",
              "      <td>NaN</td>\n",
              "      <td>NaN</td>\n",
              "      <td>NaN</td>\n",
              "      <td>NaN</td>\n",
              "      <td>NaN</td>\n",
              "      <td>NaN</td>\n",
              "      <td>NaN</td>\n",
              "      <td>NaN</td>\n",
              "      <td>NaN</td>\n",
              "      <td>NaN</td>\n",
              "      <td>NaN</td>\n",
              "    </tr>\n",
              "    <tr>\n",
              "      <th>1</th>\n",
              "      <td>Afghanistan</td>\n",
              "      <td>Chak E Wardak</td>\n",
              "      <td>NaN</td>\n",
              "      <td>AFG</td>\n",
              "      <td>Wardak</td>\n",
              "      <td>Pul E Alam</td>\n",
              "      <td>Logar</td>\n",
              "      <td>Indus</td>\n",
              "      <td>Kabul</td>\n",
              "      <td>1938</td>\n",
              "      <td>NaN</td>\n",
              "      <td>NaN</td>\n",
              "      <td>NaN</td>\n",
              "      <td>NaN</td>\n",
              "      <td>x</td>\n",
              "      <td>NaN</td>\n",
              "      <td>NaN</td>\n",
              "      <td>x</td>\n",
              "      <td>NaN</td>\n",
              "      <td>NaN</td>\n",
              "      <td>NaN</td>\n",
              "      <td>NaN</td>\n",
              "      <td>NaN</td>\n",
              "      <td>NaN</td>\n",
              "      <td>NaN</td>\n",
              "      <td>NaN</td>\n",
              "      <td>5</td>\n",
              "      <td>NaN</td>\n",
              "      <td>NaN</td>\n",
              "      <td>NaN</td>\n",
              "      <td>NaN</td>\n",
              "      <td>NaN</td>\n",
              "      <td>NaN</td>\n",
              "      <td>NaN</td>\n",
              "      <td>NaN</td>\n",
              "      <td>NaN</td>\n",
              "      <td>NaN</td>\n",
              "      <td>NaN</td>\n",
              "      <td>NaN</td>\n",
              "      <td>NaN</td>\n",
              "      <td>NaN</td>\n",
              "      <td>NaN</td>\n",
              "      <td>NaN</td>\n",
              "    </tr>\n",
              "    <tr>\n",
              "      <th>2</th>\n",
              "      <td>Afghanistan</td>\n",
              "      <td>Grishk</td>\n",
              "      <td>NaN</td>\n",
              "      <td>AFG</td>\n",
              "      <td>Helmand</td>\n",
              "      <td>NaN</td>\n",
              "      <td>Helmand</td>\n",
              "      <td>Helmand-Sistan</td>\n",
              "      <td>Helmand</td>\n",
              "      <td>1945</td>\n",
              "      <td>NaN</td>\n",
              "      <td>NaN</td>\n",
              "      <td>NaN</td>\n",
              "      <td>NaN</td>\n",
              "      <td>NaN</td>\n",
              "      <td>NaN</td>\n",
              "      <td>NaN</td>\n",
              "      <td>x</td>\n",
              "      <td>NaN</td>\n",
              "      <td>NaN</td>\n",
              "      <td>NaN</td>\n",
              "      <td>NaN</td>\n",
              "      <td>NaN</td>\n",
              "      <td>NaN</td>\n",
              "      <td>NaN</td>\n",
              "      <td>NaN</td>\n",
              "      <td>5</td>\n",
              "      <td>NaN</td>\n",
              "      <td>NaN</td>\n",
              "      <td>NaN</td>\n",
              "      <td>NaN</td>\n",
              "      <td>NaN</td>\n",
              "      <td>NaN</td>\n",
              "      <td>NaN</td>\n",
              "      <td>NaN</td>\n",
              "      <td>NaN</td>\n",
              "      <td>NaN</td>\n",
              "      <td>NaN</td>\n",
              "      <td>NaN</td>\n",
              "      <td>NaN</td>\n",
              "      <td>NaN</td>\n",
              "      <td>NaN</td>\n",
              "      <td>NaN</td>\n",
              "    </tr>\n",
              "    <tr>\n",
              "      <th>3</th>\n",
              "      <td>Afghanistan</td>\n",
              "      <td>Dahla</td>\n",
              "      <td>NaN</td>\n",
              "      <td>AFG</td>\n",
              "      <td>Kandahar</td>\n",
              "      <td>Kandahar</td>\n",
              "      <td>Arghandab</td>\n",
              "      <td>Helmand-Sistan</td>\n",
              "      <td>Arghandab</td>\n",
              "      <td>1952</td>\n",
              "      <td>NaN</td>\n",
              "      <td>NaN</td>\n",
              "      <td>NaN</td>\n",
              "      <td>NaN</td>\n",
              "      <td>x</td>\n",
              "      <td>NaN</td>\n",
              "      <td>NaN</td>\n",
              "      <td>NaN</td>\n",
              "      <td>NaN</td>\n",
              "      <td>NaN</td>\n",
              "      <td>NaN</td>\n",
              "      <td>NaN</td>\n",
              "      <td>NaN</td>\n",
              "      <td>NaN</td>\n",
              "      <td>NaN</td>\n",
              "      <td>6</td>\n",
              "      <td>5</td>\n",
              "      <td>NaN</td>\n",
              "      <td>NaN</td>\n",
              "      <td>NaN</td>\n",
              "      <td>NaN</td>\n",
              "      <td>NaN</td>\n",
              "      <td>NaN</td>\n",
              "      <td>NaN</td>\n",
              "      <td>NaN</td>\n",
              "      <td>NaN</td>\n",
              "      <td>NaN</td>\n",
              "      <td>NaN</td>\n",
              "      <td>NaN</td>\n",
              "      <td>NaN</td>\n",
              "      <td>NaN</td>\n",
              "      <td>NaN</td>\n",
              "      <td>NaN</td>\n",
              "    </tr>\n",
              "    <tr>\n",
              "      <th>4</th>\n",
              "      <td>Afghanistan</td>\n",
              "      <td>Kajaki</td>\n",
              "      <td>NaN</td>\n",
              "      <td>AFG</td>\n",
              "      <td>Helmand</td>\n",
              "      <td>Lashkar Gah</td>\n",
              "      <td>Upper Helmand</td>\n",
              "      <td>Helmand-Sistan</td>\n",
              "      <td>Helmand</td>\n",
              "      <td>1953</td>\n",
              "      <td>98</td>\n",
              "      <td>1200</td>\n",
              "      <td>NaN</td>\n",
              "      <td>NaN</td>\n",
              "      <td>x</td>\n",
              "      <td>NaN</td>\n",
              "      <td>NaN</td>\n",
              "      <td>x</td>\n",
              "      <td>NaN</td>\n",
              "      <td>NaN</td>\n",
              "      <td>NaN</td>\n",
              "      <td>NaN</td>\n",
              "      <td>NaN</td>\n",
              "      <td>NaN</td>\n",
              "      <td>NaN</td>\n",
              "      <td>6,7</td>\n",
              "      <td>5</td>\n",
              "      <td>NaN</td>\n",
              "      <td>NaN</td>\n",
              "      <td>NaN</td>\n",
              "      <td>NaN</td>\n",
              "      <td>NaN</td>\n",
              "      <td>NaN</td>\n",
              "      <td>NaN</td>\n",
              "      <td>NaN</td>\n",
              "      <td>NaN</td>\n",
              "      <td>NaN</td>\n",
              "      <td>NaN</td>\n",
              "      <td>NaN</td>\n",
              "      <td>NaN</td>\n",
              "      <td>NaN</td>\n",
              "      <td>NaN</td>\n",
              "      <td>NaN</td>\n",
              "    </tr>\n",
              "    <tr>\n",
              "      <th>...</th>\n",
              "      <td>...</td>\n",
              "      <td>...</td>\n",
              "      <td>...</td>\n",
              "      <td>...</td>\n",
              "      <td>...</td>\n",
              "      <td>...</td>\n",
              "      <td>...</td>\n",
              "      <td>...</td>\n",
              "      <td>...</td>\n",
              "      <td>...</td>\n",
              "      <td>...</td>\n",
              "      <td>...</td>\n",
              "      <td>...</td>\n",
              "      <td>...</td>\n",
              "      <td>...</td>\n",
              "      <td>...</td>\n",
              "      <td>...</td>\n",
              "      <td>...</td>\n",
              "      <td>...</td>\n",
              "      <td>...</td>\n",
              "      <td>...</td>\n",
              "      <td>...</td>\n",
              "      <td>...</td>\n",
              "      <td>...</td>\n",
              "      <td>...</td>\n",
              "      <td>...</td>\n",
              "      <td>...</td>\n",
              "      <td>...</td>\n",
              "      <td>...</td>\n",
              "      <td>...</td>\n",
              "      <td>...</td>\n",
              "      <td>...</td>\n",
              "      <td>...</td>\n",
              "      <td>...</td>\n",
              "      <td>...</td>\n",
              "      <td>...</td>\n",
              "      <td>...</td>\n",
              "      <td>...</td>\n",
              "      <td>...</td>\n",
              "      <td>...</td>\n",
              "      <td>...</td>\n",
              "      <td>...</td>\n",
              "      <td>...</td>\n",
              "    </tr>\n",
              "    <tr>\n",
              "      <th>93</th>\n",
              "      <td>Uzbekistan</td>\n",
              "      <td>Zaamin</td>\n",
              "      <td>NaN</td>\n",
              "      <td>UZB</td>\n",
              "      <td>Jizzakh (Zaaminsky tuman)</td>\n",
              "      <td>Jizzakh</td>\n",
              "      <td>Zaaminsu</td>\n",
              "      <td>Syr Darya</td>\n",
              "      <td>NaN</td>\n",
              "      <td>1987</td>\n",
              "      <td>73.5</td>\n",
              "      <td>51</td>\n",
              "      <td>NaN</td>\n",
              "      <td>NaN</td>\n",
              "      <td>x</td>\n",
              "      <td>NaN</td>\n",
              "      <td>NaN</td>\n",
              "      <td>NaN</td>\n",
              "      <td>NaN</td>\n",
              "      <td>NaN</td>\n",
              "      <td>NaN</td>\n",
              "      <td>NaN</td>\n",
              "      <td>NaN</td>\n",
              "      <td>NaN</td>\n",
              "      <td>NaN</td>\n",
              "      <td>23</td>\n",
              "      <td>NaN</td>\n",
              "      <td>fill. In-channel</td>\n",
              "      <td>NaN</td>\n",
              "      <td>NaN</td>\n",
              "      <td>NaN</td>\n",
              "      <td>NaN</td>\n",
              "      <td>NaN</td>\n",
              "      <td>NaN</td>\n",
              "      <td>NaN</td>\n",
              "      <td>NaN</td>\n",
              "      <td>NaN</td>\n",
              "      <td>NaN</td>\n",
              "      <td>NaN</td>\n",
              "      <td>NaN</td>\n",
              "      <td>NaN</td>\n",
              "      <td>NaN</td>\n",
              "      <td>NaN</td>\n",
              "    </tr>\n",
              "    <tr>\n",
              "      <th>94</th>\n",
              "      <td>Uzbekistan</td>\n",
              "      <td>Kamashin</td>\n",
              "      <td>NaN</td>\n",
              "      <td>UZB</td>\n",
              "      <td>Kashkadarya (Kamashinsky tuman)</td>\n",
              "      <td>Kamawi</td>\n",
              "      <td>Shurasay</td>\n",
              "      <td>Syr Darya</td>\n",
              "      <td>NaN</td>\n",
              "      <td>1987</td>\n",
              "      <td>14.9</td>\n",
              "      <td>25</td>\n",
              "      <td>3</td>\n",
              "      <td>NaN</td>\n",
              "      <td>x</td>\n",
              "      <td>NaN</td>\n",
              "      <td>NaN</td>\n",
              "      <td>NaN</td>\n",
              "      <td>NaN</td>\n",
              "      <td>NaN</td>\n",
              "      <td>NaN</td>\n",
              "      <td>NaN</td>\n",
              "      <td>NaN</td>\n",
              "      <td>NaN</td>\n",
              "      <td>NaN</td>\n",
              "      <td>23</td>\n",
              "      <td>NaN</td>\n",
              "      <td>dirt fill. Off-channel</td>\n",
              "      <td>NaN</td>\n",
              "      <td>NaN</td>\n",
              "      <td>NaN</td>\n",
              "      <td>NaN</td>\n",
              "      <td>NaN</td>\n",
              "      <td>NaN</td>\n",
              "      <td>NaN</td>\n",
              "      <td>NaN</td>\n",
              "      <td>NaN</td>\n",
              "      <td>NaN</td>\n",
              "      <td>NaN</td>\n",
              "      <td>NaN</td>\n",
              "      <td>NaN</td>\n",
              "      <td>NaN</td>\n",
              "      <td>NaN</td>\n",
              "    </tr>\n",
              "    <tr>\n",
              "      <th>95</th>\n",
              "      <td>Uzbekistan</td>\n",
              "      <td>Akhangaran</td>\n",
              "      <td>NaN</td>\n",
              "      <td>UZB</td>\n",
              "      <td>Tashkent (Akhangaranskt tuman)</td>\n",
              "      <td>Angren</td>\n",
              "      <td>Akhangaran</td>\n",
              "      <td>Syr Darya</td>\n",
              "      <td>Akhangaran</td>\n",
              "      <td>1989</td>\n",
              "      <td>100</td>\n",
              "      <td>198</td>\n",
              "      <td>NaN</td>\n",
              "      <td>NaN</td>\n",
              "      <td>x</td>\n",
              "      <td>NaN</td>\n",
              "      <td>NaN</td>\n",
              "      <td>NaN</td>\n",
              "      <td>NaN</td>\n",
              "      <td>NaN</td>\n",
              "      <td>NaN</td>\n",
              "      <td>NaN</td>\n",
              "      <td>NaN</td>\n",
              "      <td>NaN</td>\n",
              "      <td>NaN</td>\n",
              "      <td>23</td>\n",
              "      <td>NaN</td>\n",
              "      <td>earthen. In-channel</td>\n",
              "      <td>NaN</td>\n",
              "      <td>NaN</td>\n",
              "      <td>NaN</td>\n",
              "      <td>NaN</td>\n",
              "      <td>NaN</td>\n",
              "      <td>NaN</td>\n",
              "      <td>NaN</td>\n",
              "      <td>NaN</td>\n",
              "      <td>NaN</td>\n",
              "      <td>NaN</td>\n",
              "      <td>NaN</td>\n",
              "      <td>NaN</td>\n",
              "      <td>NaN</td>\n",
              "      <td>NaN</td>\n",
              "      <td>NaN</td>\n",
              "    </tr>\n",
              "    <tr>\n",
              "      <th>96</th>\n",
              "      <td>Uzbekistan</td>\n",
              "      <td>Gissar</td>\n",
              "      <td>NaN</td>\n",
              "      <td>UZB</td>\n",
              "      <td>Kashkadarya (Shakhrisyabsky tuman)</td>\n",
              "      <td>NaN</td>\n",
              "      <td>Aksu</td>\n",
              "      <td>Amu Darya</td>\n",
              "      <td>Aksu</td>\n",
              "      <td>1990</td>\n",
              "      <td>138.5</td>\n",
              "      <td>170</td>\n",
              "      <td>NaN</td>\n",
              "      <td>NaN</td>\n",
              "      <td>x</td>\n",
              "      <td>NaN</td>\n",
              "      <td>NaN</td>\n",
              "      <td>NaN</td>\n",
              "      <td>NaN</td>\n",
              "      <td>NaN</td>\n",
              "      <td>NaN</td>\n",
              "      <td>NaN</td>\n",
              "      <td>NaN</td>\n",
              "      <td>NaN</td>\n",
              "      <td>NaN</td>\n",
              "      <td>23</td>\n",
              "      <td>NaN</td>\n",
              "      <td>earth-to-loamy. In-channel</td>\n",
              "      <td>NaN</td>\n",
              "      <td>NaN</td>\n",
              "      <td>NaN</td>\n",
              "      <td>NaN</td>\n",
              "      <td>NaN</td>\n",
              "      <td>NaN</td>\n",
              "      <td>NaN</td>\n",
              "      <td>NaN</td>\n",
              "      <td>NaN</td>\n",
              "      <td>NaN</td>\n",
              "      <td>NaN</td>\n",
              "      <td>NaN</td>\n",
              "      <td>NaN</td>\n",
              "      <td>NaN</td>\n",
              "      <td>NaN</td>\n",
              "    </tr>\n",
              "    <tr>\n",
              "      <th>97</th>\n",
              "      <td>Uzbekistan</td>\n",
              "      <td>Tupalang</td>\n",
              "      <td>NaN</td>\n",
              "      <td>UZB</td>\n",
              "      <td>Surkhandarya (Saryasinsky tuman)</td>\n",
              "      <td>Shargun</td>\n",
              "      <td>Tupalang</td>\n",
              "      <td>Amu Darya</td>\n",
              "      <td>NaN</td>\n",
              "      <td>2002</td>\n",
              "      <td>180</td>\n",
              "      <td>500</td>\n",
              "      <td>NaN</td>\n",
              "      <td>NaN</td>\n",
              "      <td>x</td>\n",
              "      <td>NaN</td>\n",
              "      <td>NaN</td>\n",
              "      <td>NaN</td>\n",
              "      <td>NaN</td>\n",
              "      <td>NaN</td>\n",
              "      <td>NaN</td>\n",
              "      <td>NaN</td>\n",
              "      <td>NaN</td>\n",
              "      <td>NaN</td>\n",
              "      <td>NaN</td>\n",
              "      <td>23</td>\n",
              "      <td>NaN</td>\n",
              "      <td>rock-fill. In-channel</td>\n",
              "      <td>NaN</td>\n",
              "      <td>NaN</td>\n",
              "      <td>NaN</td>\n",
              "      <td>NaN</td>\n",
              "      <td>NaN</td>\n",
              "      <td>NaN</td>\n",
              "      <td>NaN</td>\n",
              "      <td>NaN</td>\n",
              "      <td>NaN</td>\n",
              "      <td>NaN</td>\n",
              "      <td>NaN</td>\n",
              "      <td>NaN</td>\n",
              "      <td>NaN</td>\n",
              "      <td>NaN</td>\n",
              "      <td>NaN</td>\n",
              "    </tr>\n",
              "  </tbody>\n",
              "</table>\n",
              "<p>98 rows × 43 columns</p>\n",
              "</div>"
            ],
            "text/plain": [
              "   Dams of C. Asia     Unnamed: 1  ... Unnamed: 41 Unnamed: 42\n",
              "0          Country    Name of dam  ...         NaN         NaN\n",
              "1      Afghanistan  Chak E Wardak  ...         NaN         NaN\n",
              "2      Afghanistan         Grishk  ...         NaN         NaN\n",
              "3      Afghanistan          Dahla  ...         NaN         NaN\n",
              "4      Afghanistan         Kajaki  ...         NaN         NaN\n",
              "..             ...            ...  ...         ...         ...\n",
              "93      Uzbekistan         Zaamin  ...         NaN         NaN\n",
              "94      Uzbekistan       Kamashin  ...         NaN         NaN\n",
              "95      Uzbekistan     Akhangaran  ...         NaN         NaN\n",
              "96      Uzbekistan         Gissar  ...         NaN         NaN\n",
              "97      Uzbekistan       Tupalang  ...         NaN         NaN\n",
              "\n",
              "[98 rows x 43 columns]"
            ]
          },
          "metadata": {
            "tags": []
          },
          "execution_count": 4
        }
      ]
    }
  ]
}